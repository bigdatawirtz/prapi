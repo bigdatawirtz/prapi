{
 "cells": [
  {
   "cell_type": "code",
   "execution_count": null,
   "metadata": {},
   "outputs": [],
   "source": [
    "# Importamos la librería para hacer peticiones\n",
    "import requests"
   ]
  },
  {
   "cell_type": "code",
   "execution_count": null,
   "metadata": {},
   "outputs": [],
   "source": [
    "# API de los vinos blancos -> https://api.sampleapis.com/wines/whites\n",
    "endpoint = \"https://api.sampleapis.com/wines/whites\""
   ]
  },
  {
   "cell_type": "code",
   "execution_count": null,
   "metadata": {},
   "outputs": [],
   "source": [
    "# Hacemos una petición al endpoint\n",
    "requests.get(endpoint)"
   ]
  },
  {
   "cell_type": "code",
   "execution_count": null,
   "metadata": {},
   "outputs": [],
   "source": [
    "# Comprobamos el estado de respuesta y su contenido\n",
    "estado = requests.get(endpoint)\n",
    "estado.status_code()\n",
    "estado.content\n"
   ]
  },
  {
   "cell_type": "code",
   "execution_count": null,
   "metadata": {},
   "outputs": [],
   "source": [
    "# Vemos el contenido en formato JSON\n",
    "estado.json()"
   ]
  }
 ],
 "metadata": {
  "kernelspec": {
   "display_name": "Python 3",
   "language": "python",
   "name": "python3"
  },
  "language_info": {
   "name": "python",
   "version": "3.10.5 (tags/v3.10.5:f377153, Jun  6 2022, 16:14:13) [MSC v.1929 64 bit (AMD64)]"
  },
  "orig_nbformat": 4,
  "vscode": {
   "interpreter": {
    "hash": "8fbfba7cb8bdca769b43cbb833a817b4ca395e01b4b8dedb589dfb9294fd4e87"
   }
  }
 },
 "nbformat": 4,
 "nbformat_minor": 2
}
