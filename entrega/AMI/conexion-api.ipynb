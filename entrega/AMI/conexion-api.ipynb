{
 "cells": [
  {
   "cell_type": "code",
   "execution_count": null,
   "metadata": {},
   "outputs": [],
   "source": [
    "# Importamos la librería para hacer peticiones\n",
    "import requests"
   ]
  },
  {
   "cell_type": "code",
   "execution_count": null,
   "metadata": {},
   "outputs": [],
   "source": [
    "# API de los vinos blancos -> https://api.sampleapis.com/wines/whites\n",
    "endpoint = \"https://api.sampleapis.com/wines/whites\""
   ]
  },
  {
   "cell_type": "code",
   "execution_count": null,
   "metadata": {},
   "outputs": [],
   "source": [
    "# Hacemos una petición al endpoint\n",
    "requests.get(endpoint)"
   ]
  },
  {
   "cell_type": "code",
   "execution_count": null,
   "metadata": {},
   "outputs": [],
   "source": [
    "# Comprobamos el estado de respuesta y su contenido\n",
    "estado = requests.get(endpoint)\n",
    "estado.status_code()\n",
    "estado.content\n"
   ]
  },
  {
   "cell_type": "code",
   "execution_count": null,
   "metadata": {},
   "outputs": [],
   "source": [
    "# Vemos el contenido en formato JSON\n",
    "estado.json()"
   ]
  }
 ],
 "metadata": {
  "kernelspec": {
   "display_name": "Adrianmi",
   "language": "python",
   "name": "python3"
  },
  "language_info": {
   "name": "python",
   "version": "3.9.15 (main, Nov 24 2022, 14:39:17) [MSC v.1916 64 bit (AMD64)]"
  },
  "orig_nbformat": 4,
  "vscode": {
   "interpreter": {
    "hash": "595b4d24e78abc07cf2545cc7fb886856861f10e5d780b4af539cab934c4c769"
   }
  }
 },
 "nbformat": 4,
 "nbformat_minor": 2
}
